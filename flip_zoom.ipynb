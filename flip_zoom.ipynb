{
  "nbformat": 4,
  "nbformat_minor": 0,
  "metadata": {
    "colab": {
      "name": "lastest",
      "version": "0.3.2",
      "provenance": [],
      "collapsed_sections": []
    },
    "kernelspec": {
      "name": "python3",
      "display_name": "Python 3"
    },
    "accelerator": "GPU"
  },
  "cells": [
    {
      "cell_type": "code",
      "metadata": {
        "id": "Orfif2uOYJBG",
        "colab_type": "code",
        "outputId": "be697355-d191-4e0d-86a3-e63005d109ee",
        "colab": {
          "base_uri": "https://localhost:8080/",
          "height": 345
        }
      },
      "source": [
        "# Check if GPU is enabled\n",
        "import tensorflow as tf\n",
        "print(tf.__version__)\n",
        "print(tf.test.gpu_device_name())\n",
        "!nvidia-smi"
      ],
      "execution_count": 6,
      "outputs": [
        {
          "output_type": "stream",
          "text": [
            "1.13.1\n",
            "/device:GPU:0\n",
            "Thu May 30 14:03:46 2019       \n",
            "+-----------------------------------------------------------------------------+\n",
            "| NVIDIA-SMI 418.67       Driver Version: 410.79       CUDA Version: 10.0     |\n",
            "|-------------------------------+----------------------+----------------------+\n",
            "| GPU  Name        Persistence-M| Bus-Id        Disp.A | Volatile Uncorr. ECC |\n",
            "| Fan  Temp  Perf  Pwr:Usage/Cap|         Memory-Usage | GPU-Util  Compute M. |\n",
            "|===============================+======================+======================|\n",
            "|   0  Tesla K80           Off  | 00000000:00:04.0 Off |                    0 |\n",
            "| N/A   48C    P0    63W / 149W |    121MiB / 11441MiB |      0%      Default |\n",
            "+-------------------------------+----------------------+----------------------+\n",
            "                                                                               \n",
            "+-----------------------------------------------------------------------------+\n",
            "| Processes:                                                       GPU Memory |\n",
            "|  GPU       PID   Type   Process name                             Usage      |\n",
            "|=============================================================================|\n",
            "+-----------------------------------------------------------------------------+\n"
          ],
          "name": "stdout"
        }
      ]
    },
    {
      "cell_type": "code",
      "metadata": {
        "id": "rMHQRIMZVWW4",
        "colab_type": "code",
        "outputId": "4ff0e2cb-3887-4555-ee27-ff2ad2972cda",
        "colab": {
          "base_uri": "https://localhost:8080/",
          "height": 272
        }
      },
      "source": [
        "  LOG_DIR = 'drive/data/tb_logs'\n",
        "\t\n",
        "  !wget https://bin.equinox.io/c/4VmDzA7iaHb/ngrok-stable-linux-amd64.zip\n",
        "  !unzip ngrok-stable-linux-amd64.zip\n",
        "\t\n",
        "  import os\n",
        "  if not os.path.exists(LOG_DIR):\n",
        "    os.makedirs(LOG_DIR)\n",
        "\t  \n",
        "  get_ipython().system_raw(\n",
        "      'tensorboard --logdir {} --host 0.0.0.0 --port 6006 &'\n",
        "      .format(LOG_DIR))\n",
        "\t\n",
        "  get_ipython().system_raw('./ngrok http 6006 &')\n",
        "\t\n",
        "  !curl -s http://localhost:4040/api/tunnels | python3 -c \\\n",
        "      \"import sys, json; print(json.load(sys.stdin)['tunnels'][0]['public_url'])\""
      ],
      "execution_count": 7,
      "outputs": [
        {
          "output_type": "stream",
          "text": [
            "--2019-05-30 14:03:50--  https://bin.equinox.io/c/4VmDzA7iaHb/ngrok-stable-linux-amd64.zip\n",
            "Resolving bin.equinox.io (bin.equinox.io)... 34.226.180.131, 52.202.60.111, 54.152.127.232, ...\n",
            "Connecting to bin.equinox.io (bin.equinox.io)|34.226.180.131|:443... connected.\n",
            "HTTP request sent, awaiting response... 200 OK\n",
            "Length: 16648024 (16M) [application/octet-stream]\n",
            "Saving to: ‘ngrok-stable-linux-amd64.zip’\n",
            "\n",
            "ngrok-stable-linux- 100%[===================>]  15.88M  7.29MB/s    in 2.2s    \n",
            "\n",
            "2019-05-30 14:03:53 (7.29 MB/s) - ‘ngrok-stable-linux-amd64.zip’ saved [16648024/16648024]\n",
            "\n",
            "Archive:  ngrok-stable-linux-amd64.zip\n",
            "  inflating: ngrok                   \n",
            "http://8848f6a7.ngrok.io\n"
          ],
          "name": "stdout"
        }
      ]
    },
    {
      "cell_type": "code",
      "metadata": {
        "id": "m_9PIjOPdNnw",
        "colab_type": "code",
        "outputId": "8f60647c-5870-4391-e889-897210cd3186",
        "colab": {
          "base_uri": "https://localhost:8080/",
          "height": 128
        }
      },
      "source": [
        "from google.colab import drive\n",
        "drive.mount('/gdrive')"
      ],
      "execution_count": 8,
      "outputs": [
        {
          "output_type": "stream",
          "text": [
            "Go to this URL in a browser: https://accounts.google.com/o/oauth2/auth?client_id=947318989803-6bn6qk8qdgf4n4g3pfee6491hc0brc4i.apps.googleusercontent.com&redirect_uri=urn%3Aietf%3Awg%3Aoauth%3A2.0%3Aoob&scope=email%20https%3A%2F%2Fwww.googleapis.com%2Fauth%2Fdocs.test%20https%3A%2F%2Fwww.googleapis.com%2Fauth%2Fdrive%20https%3A%2F%2Fwww.googleapis.com%2Fauth%2Fdrive.photos.readonly%20https%3A%2F%2Fwww.googleapis.com%2Fauth%2Fpeopleapi.readonly&response_type=code\n",
            "\n",
            "Enter your authorization code:\n",
            "··········\n",
            "Mounted at /gdrive\n"
          ],
          "name": "stdout"
        }
      ]
    },
    {
      "cell_type": "code",
      "metadata": {
        "id": "jWudoKZKdP7x",
        "colab_type": "code",
        "outputId": "3186c010-20e1-4eab-ac6c-171bd3c66aba",
        "colab": {
          "base_uri": "https://localhost:8080/",
          "height": 35
        }
      },
      "source": [
        "import os\n",
        "import shutil\n",
        "\n",
        "# shutil.copy(\"/gdrive/My Drive/best_model_101class_school.hdf5\", \"/content\")\n",
        "shutil.copy(\"/gdrive/My Drive/food-101.tar.gz\", \"/content\")"
      ],
      "execution_count": 9,
      "outputs": [
        {
          "output_type": "execute_result",
          "data": {
            "text/plain": [
              "'/content/food-101.tar.gz'"
            ]
          },
          "metadata": {
            "tags": []
          },
          "execution_count": 9
        }
      ]
    },
    {
      "cell_type": "code",
      "metadata": {
        "id": "AXGd5ybWYO79",
        "colab_type": "code",
        "colab": {}
      },
      "source": [
        "!tar xzvf food-101.tar.gz"
      ],
      "execution_count": 0,
      "outputs": []
    },
    {
      "cell_type": "code",
      "metadata": {
        "id": "PVF-wVRNYQPL",
        "colab_type": "code",
        "outputId": "b185d582-285b-460c-cdff-3fd8120c8cc6",
        "colab": {
          "base_uri": "https://localhost:8080/"
        }
      },
      "source": [
        "# Check the extracted dataset folder\n",
        "!ls food-101/"
      ],
      "execution_count": 0,
      "outputs": [
        {
          "output_type": "stream",
          "text": [
            "images\tlicense_agreement.txt  meta  README.txt\n"
          ],
          "name": "stdout"
        }
      ]
    },
    {
      "cell_type": "code",
      "metadata": {
        "id": "6_RnwiyCYRAC",
        "colab_type": "code",
        "outputId": "0064d49d-8c5d-41cb-9480-654bda1addc4",
        "colab": {
          "base_uri": "https://localhost:8080/"
        }
      },
      "source": [
        "import os\n",
        "os.listdir('food-101/images')"
      ],
      "execution_count": 0,
      "outputs": [
        {
          "output_type": "execute_result",
          "data": {
            "text/plain": [
              "['chicken_wings',\n",
              " 'creme_brulee',\n",
              " 'ceviche',\n",
              " 'pancakes',\n",
              " 'risotto',\n",
              " 'hot_and_sour_soup',\n",
              " 'hummus',\n",
              " 'spaghetti_bolognese',\n",
              " 'mussels',\n",
              " 'apple_pie',\n",
              " 'clam_chowder',\n",
              " 'sashimi',\n",
              " 'gnocchi',\n",
              " 'peking_duck',\n",
              " 'croque_madame',\n",
              " 'grilled_salmon',\n",
              " 'hamburger',\n",
              " 'breakfast_burrito',\n",
              " 'frozen_yogurt',\n",
              " 'ravioli',\n",
              " 'onion_rings',\n",
              " 'waffles',\n",
              " 'cheese_plate',\n",
              " 'tuna_tartare',\n",
              " 'guacamole',\n",
              " 'eggs_benedict',\n",
              " 'grilled_cheese_sandwich',\n",
              " 'chocolate_mousse',\n",
              " 'paella',\n",
              " 'seaweed_salad',\n",
              " 'scallops',\n",
              " 'ramen',\n",
              " 'escargots',\n",
              " 'samosa',\n",
              " 'churros',\n",
              " 'bibimbap',\n",
              " 'french_toast',\n",
              " 'panna_cotta',\n",
              " 'oysters',\n",
              " 'garlic_bread',\n",
              " 'shrimp_and_grits',\n",
              " 'dumplings',\n",
              " 'tiramisu',\n",
              " 'baklava',\n",
              " 'macarons',\n",
              " 'chicken_curry',\n",
              " 'deviled_eggs',\n",
              " 'spaghetti_carbonara',\n",
              " 'pad_thai',\n",
              " 'pizza',\n",
              " 'bruschetta',\n",
              " 'falafel',\n",
              " 'caesar_salad',\n",
              " 'takoyaki',\n",
              " 'fried_calamari',\n",
              " 'french_onion_soup',\n",
              " 'foie_gras',\n",
              " 'beignets',\n",
              " 'carrot_cake',\n",
              " 'strawberry_shortcake',\n",
              " 'gyoza',\n",
              " 'fish_and_chips',\n",
              " 'poutine',\n",
              " 'miso_soup',\n",
              " 'pork_chop',\n",
              " 'red_velvet_cake',\n",
              " 'french_fries',\n",
              " 'lobster_roll_sandwich',\n",
              " 'beet_salad',\n",
              " 'macaroni_and_cheese',\n",
              " 'baby_back_ribs',\n",
              " 'pho',\n",
              " 'club_sandwich',\n",
              " 'sushi',\n",
              " 'filet_mignon',\n",
              " 'chocolate_cake',\n",
              " 'lasagna',\n",
              " 'cannoli',\n",
              " 'edamame',\n",
              " 'huevos_rancheros',\n",
              " 'bread_pudding',\n",
              " 'tacos',\n",
              " 'chicken_quesadilla',\n",
              " 'caprese_salad',\n",
              " 'cup_cakes',\n",
              " 'ice_cream',\n",
              " 'steak',\n",
              " 'crab_cakes',\n",
              " 'omelette',\n",
              " 'fried_rice',\n",
              " 'hot_dog',\n",
              " 'donuts',\n",
              " 'beef_tartare',\n",
              " 'nachos',\n",
              " 'pulled_pork_sandwich',\n",
              " 'spring_rolls',\n",
              " 'cheesecake',\n",
              " 'prime_rib',\n",
              " 'beef_carpaccio',\n",
              " 'lobster_bisque',\n",
              " 'greek_salad']"
            ]
          },
          "metadata": {
            "tags": []
          },
          "execution_count": 2
        }
      ]
    },
    {
      "cell_type": "code",
      "metadata": {
        "id": "5sY4vPWvYSC1",
        "colab_type": "code",
        "colab": {}
      },
      "source": [
        "os.listdir('food-101/meta')"
      ],
      "execution_count": 0,
      "outputs": []
    },
    {
      "cell_type": "code",
      "metadata": {
        "id": "X14hcGuDYToq",
        "colab_type": "code",
        "colab": {}
      },
      "source": [
        "!head food-101/meta/train.txt"
      ],
      "execution_count": 0,
      "outputs": []
    },
    {
      "cell_type": "code",
      "metadata": {
        "id": "evU4ORPaYUiM",
        "colab_type": "code",
        "colab": {}
      },
      "source": [
        "!head food-101/meta/classes.txt"
      ],
      "execution_count": 0,
      "outputs": []
    },
    {
      "cell_type": "code",
      "metadata": {
        "id": "1TDzV_9sYVgb",
        "colab_type": "code",
        "colab": {}
      },
      "source": [
        "import matplotlib.pyplot as plt\n",
        "import matplotlib.image as img\n",
        "%matplotlib inline\n",
        "import numpy as np\n",
        "from collections import defaultdict\n",
        "import collections\n",
        "import os"
      ],
      "execution_count": 0,
      "outputs": []
    },
    {
      "cell_type": "code",
      "metadata": {
        "id": "b-Z9mZnvYWh9",
        "colab_type": "code",
        "colab": {}
      },
      "source": [
        "# Helper method to split dataset into train and test folders\n",
        "from shutil import copy\n",
        "def prepare_data(filepath, src,dest):\n",
        "  classes_images = defaultdict(list)\n",
        "  with open(filepath, 'r') as txt:\n",
        "      paths = [read.strip() for read in txt.readlines()]\n",
        "      for p in paths:\n",
        "        food = p.split('/')\n",
        "        classes_images[food[0]].append(food[1] + '.jpg')\n",
        "\n",
        "  for food in classes_images.keys():\n",
        "    print(\"\\nCopying images into \",food)\n",
        "    if not os.path.exists(os.path.join(dest,food)):\n",
        "      os.makedirs(os.path.join(dest,food))\n",
        "    for i in classes_images[food]:\n",
        "      copy(os.path.join(src,food,i), os.path.join(dest,food,i))\n",
        "  print(\"Copying Done!\")"
      ],
      "execution_count": 0,
      "outputs": []
    },
    {
      "cell_type": "code",
      "metadata": {
        "id": "VtgPgVvoYXpX",
        "colab_type": "code",
        "colab": {}
      },
      "source": [
        "# Prepare train dataset by copying images from food-101/images to food-101/train using the file train.txt\n",
        "print(\"Creating train data...\")\n",
        "prepare_data('food-101/meta/train.txt', 'food-101/images', 'food-101/train')"
      ],
      "execution_count": 0,
      "outputs": []
    },
    {
      "cell_type": "code",
      "metadata": {
        "id": "dUVgPASnYYuK",
        "colab_type": "code",
        "colab": {}
      },
      "source": [
        "# Prepare test data by copying images from food-101/images to food-101/test using the file test.txt\n",
        "print(\"Creating test data...\")\n",
        "prepare_data('food-101/meta/test.txt', 'food-101/images', 'food-101/test')"
      ],
      "execution_count": 0,
      "outputs": []
    },
    {
      "cell_type": "code",
      "metadata": {
        "id": "5kK5Hy2AYZ6E",
        "colab_type": "code",
        "outputId": "19dfaafd-e6df-4772-b819-54ebc3c47b1a",
        "colab": {
          "base_uri": "https://localhost:8080/",
          "height": 54
        }
      },
      "source": [
        "# Check how many files are in the train folder\n",
        "print(\"Total number of samples in train folder\")\n",
        "!find food-101/train -type d -or -type f -printf '.' | wc -c"
      ],
      "execution_count": 15,
      "outputs": [
        {
          "output_type": "stream",
          "text": [
            "Total number of samples in train folder\n",
            "75750\n"
          ],
          "name": "stdout"
        }
      ]
    },
    {
      "cell_type": "code",
      "metadata": {
        "id": "2w1P_cWcYatn",
        "colab_type": "code",
        "outputId": "8e73d045-dc53-46e8-8146-c1820791c1eb",
        "colab": {
          "base_uri": "https://localhost:8080/",
          "height": 54
        }
      },
      "source": [
        "# Check how many files are in the test folder\n",
        "print(\"Total number of samples in test folder\")\n",
        "!find food-101/test -type d -or -type f -printf '.' | wc -c"
      ],
      "execution_count": 16,
      "outputs": [
        {
          "output_type": "stream",
          "text": [
            "Total number of samples in test folder\n",
            "25250\n"
          ],
          "name": "stdout"
        }
      ]
    },
    {
      "cell_type": "code",
      "metadata": {
        "id": "U3B0dPotYb1Y",
        "colab_type": "code",
        "outputId": "e393d7ac-d0f2-445e-bf8e-0841cb24643f",
        "colab": {
          "base_uri": "https://localhost:8080/",
          "height": 563
        }
      },
      "source": [
        "from keras.applications import VGG16\n",
        "from keras import models\n",
        "from keras import layers\n",
        "from keras import optimizers\n",
        "from tensorflow.keras import regularizers\n",
        "from tensorflow.keras.models import Sequential, Model\n",
        "from tensorflow.keras.layers import Dense, Dropout, Activation, Flatten\n",
        "from tensorflow.keras.layers import Convolution2D, MaxPooling2D, ZeroPadding2D, GlobalAveragePooling2D, AveragePooling2D\n",
        "from tensorflow.keras.preprocessing.image import ImageDataGenerator\n",
        "from tensorflow.keras.callbacks import ModelCheckpoint, CSVLogger\n",
        "# from tensorflow.keras.optimizers import SGD\n",
        "from tensorflow.keras.regularizers import l2\n",
        "from tensorflow import keras\n",
        "import numpy as np\n",
        "from keras.layers.normalization import BatchNormalization\n",
        "\n",
        "vgg_conv = VGG16(weights='imagenet', include_top=False, input_shape=(224, 224, 3))\n",
        "\n",
        "for layer in vgg_conv.layers[:-4]:\n",
        "    layer.trainable = False\n",
        "    \n",
        "# for layer in vgg_conv.layers:\n",
        "#   print(layer, layer.trainable)\n",
        "  \n",
        "model = models.Sequential()\n",
        " \n",
        "model.add(vgg_conv)\n",
        "\n",
        "model.add(layers.Flatten())\n",
        "model.add(layers.Dense(4096, activation='relu'))\n",
        "model.add(BatchNormalization())\n",
        "model.add(layers.Dense(4096, activation='relu'))\n",
        "# model.add(layers.Dense(1000, activation='relu'))\n",
        "# model.add(BatchNormalization(axis=-1, momentum=0.99, epsilon=0.001, center=True, scale=True, beta_initializer='zeros', gamma_initializer='ones', moving_mean_initializer='zeros', moving_variance_initializer='ones', beta_regularizer=None, gamma_regularizer=None, beta_constraint=None, gamma_constraint=None))\n",
        "model.add(layers.Dropout(0.3))\n",
        "model.add(layers.Dense(101,kernel_regularizer=regularizers.l2(0.005), activation='softmax'))\n",
        "\n",
        "model.summary()"
      ],
      "execution_count": 17,
      "outputs": [
        {
          "output_type": "stream",
          "text": [
            "WARNING:tensorflow:From /usr/local/lib/python3.6/dist-packages/tensorflow/python/framework/op_def_library.py:263: colocate_with (from tensorflow.python.framework.ops) is deprecated and will be removed in a future version.\n",
            "Instructions for updating:\n",
            "Colocations handled automatically by placer.\n"
          ],
          "name": "stdout"
        },
        {
          "output_type": "stream",
          "text": [
            "Using TensorFlow backend.\n"
          ],
          "name": "stderr"
        },
        {
          "output_type": "stream",
          "text": [
            "Downloading data from https://github.com/fchollet/deep-learning-models/releases/download/v0.1/vgg16_weights_tf_dim_ordering_tf_kernels_notop.h5\n",
            "58892288/58889256 [==============================] - 6s 0us/step\n",
            "WARNING:tensorflow:From /usr/local/lib/python3.6/dist-packages/keras/backend/tensorflow_backend.py:3445: calling dropout (from tensorflow.python.ops.nn_ops) with keep_prob is deprecated and will be removed in a future version.\n",
            "Instructions for updating:\n",
            "Please use `rate` instead of `keep_prob`. Rate should be set to `rate = 1 - keep_prob`.\n",
            "_________________________________________________________________\n",
            "Layer (type)                 Output Shape              Param #   \n",
            "=================================================================\n",
            "vgg16 (Model)                (None, 7, 7, 512)         14714688  \n",
            "_________________________________________________________________\n",
            "flatten_1 (Flatten)          (None, 25088)             0         \n",
            "_________________________________________________________________\n",
            "dense_1 (Dense)              (None, 4096)              102764544 \n",
            "_________________________________________________________________\n",
            "batch_normalization_1 (Batch (None, 4096)              16384     \n",
            "_________________________________________________________________\n",
            "dense_2 (Dense)              (None, 4096)              16781312  \n",
            "_________________________________________________________________\n",
            "dropout_1 (Dropout)          (None, 4096)              0         \n",
            "_________________________________________________________________\n",
            "dense_3 (Dense)              (None, 101)               413797    \n",
            "=================================================================\n",
            "Total params: 134,690,725\n",
            "Trainable params: 127,047,269\n",
            "Non-trainable params: 7,643,456\n",
            "_________________________________________________________________\n"
          ],
          "name": "stdout"
        }
      ]
    },
    {
      "cell_type": "code",
      "metadata": {
        "id": "YGD91cyWYdgH",
        "colab_type": "code",
        "colab": {}
      },
      "source": [
        "from keras.applications import VGG16\n",
        "from keras import models\n",
        "from keras import layers\n",
        "from keras import optimizers\n",
        "from tensorflow.keras import regularizers\n",
        "from tensorflow.keras.models import Sequential, Model\n",
        "from tensorflow.keras.layers import Dense, Dropout, Activation, Flatten\n",
        "from tensorflow.keras.layers import Convolution2D, MaxPooling2D, ZeroPadding2D, GlobalAveragePooling2D, AveragePooling2D\n",
        "from tensorflow.keras.preprocessing.image import ImageDataGenerator\n",
        "from tensorflow.keras.callbacks import ModelCheckpoint, CSVLogger\n",
        "# from tensorflow.keras.optimizers import SGD\n",
        "from tensorflow.keras.regularizers import l2\n",
        "from tensorflow import keras\n",
        "import numpy as np\n",
        "\n",
        "model = keras.models.load_model('best_model_101class_school2.hdf5')\n",
        "model.summary()"
      ],
      "execution_count": 0,
      "outputs": []
    },
    {
      "cell_type": "code",
      "metadata": {
        "id": "Tg62yqM_Ye4m",
        "colab_type": "code",
        "outputId": "fad4f655-c63c-4a3b-99e5-ab89a8602d03",
        "colab": {
          "base_uri": "https://localhost:8080/",
          "height": 2119
        }
      },
      "source": [
        "from google.colab import files\n",
        "import os\n",
        "import shutil\n",
        "from keras.callbacks import TensorBoard\n",
        "\n",
        "\n",
        "\n",
        "# train_datagen = ImageDataGenerator(\n",
        "#       rescale=1./255,\n",
        "#       rotation_range=30,\n",
        "#       width_shift_range=0.2,\n",
        "#       height_shift_range=0.2,\n",
        "#       horizontal_flip=True,\n",
        "#       fill_mode='nearest')\n",
        "\n",
        "train_datagen = ImageDataGenerator(\n",
        "      rescale=1./255,\n",
        "      horizontal_flip=True,\n",
        "      zoom_range=0.2)\n",
        " \n",
        "validation_datagen = ImageDataGenerator(rescale=1./255)\n",
        " \n",
        "# Change the batchsize according to your system RAM\n",
        "train_batchsize = 128\n",
        "val_batchsize = 32\n",
        "train_dir = 'food-101/train'\n",
        "validation_dir = 'food-101/test'\n",
        "n_classes = 101\n",
        "image_size = 224\n",
        " \n",
        "train_generator = train_datagen.flow_from_directory(\n",
        "        train_dir,\n",
        "        target_size=(image_size, image_size),\n",
        "        batch_size=train_batchsize,\n",
        "        class_mode='categorical')\n",
        " \n",
        "validation_generator = validation_datagen.flow_from_directory(\n",
        "        validation_dir,\n",
        "        target_size=(image_size, image_size),\n",
        "        batch_size=val_batchsize,\n",
        "        class_mode='categorical',\n",
        "        shuffle=False)\n",
        "\n",
        "tbCallBack = TensorBoard(log_dir=LOG_DIR, \n",
        "                         histogram_freq=0,\n",
        "                         write_graph=True,\n",
        "                         write_grads=True,\n",
        "                         batch_size=32,\n",
        "                         write_images=True,\n",
        "                         update_freq='epoch')\n",
        "\n",
        "# Compile the model\n",
        "# model.compile(loss='categorical_crossentropy',\n",
        "#               optimizer=optimizers.RMSprop(lr=1e-3),\n",
        "#               metrics=['acc'])\n",
        "\n",
        "model.compile(loss='categorical_crossentropy',\n",
        "              optimizer=optimizers.Adam(lr=1e-4),\n",
        "              metrics=['acc'])\n",
        "\n",
        "# model.compile(loss='categorical_crossentropy',\n",
        "#               optimizer=optimizers.SGD(lr=1e-4, momentum=0.9),\n",
        "#               metrics=['acc'])\n",
        "\n",
        "checkpointer = ModelCheckpoint(filepath='best_model_101class_flip_zoom.hdf5', verbose=1, save_best_only=True)\n",
        "csv_logger = CSVLogger('history_flip_zoom.log', separator='/', append=True)\n",
        "\n",
        "# Train the model\n",
        "history = model.fit_generator(\n",
        "      train_generator,\n",
        "      steps_per_epoch=train_generator.samples/train_generator.batch_size ,\n",
        "      epochs=20,\n",
        "      validation_data=validation_generator,\n",
        "      validation_steps=validation_generator.samples/validation_generator.batch_size,\n",
        "      verbose=1,\n",
        "      callbacks=[csv_logger, checkpointer, tbCallBack])\n",
        " \n",
        "# Save the model\n",
        "model.save('best_model_101class_flip_zoom.hdf5')\n",
        "\n",
        "shutil.copy(\"/content/history_flip_zoom.log\", \"/gdrive/My Drive\")\n",
        "shutil.copy(\"/content/best_model_101class_flip_zoom.hdf5\", \"/gdrive/My Drive\")\n",
        "\n",
        "import matplotlib.pyplot as plt\n",
        "def plot_accuracy(history,title):\n",
        "    plt.title(title)\n",
        "    plt.plot(history.history['acc'])\n",
        "    plt.plot(history.history['val_acc'])\n",
        "    plt.ylabel('accuracy')\n",
        "    plt.xlabel('epoch')\n",
        "    plt.legend(['train_accuracy', 'validation_accuracy'], loc='best')\n",
        "    plt.show()\n",
        "def plot_loss(history,title):\n",
        "    plt.title(title)\n",
        "    plt.plot(history.history['loss'])\n",
        "    plt.plot(history.history['val_loss'])\n",
        "    plt.ylabel('loss')\n",
        "    plt.xlabel('epoch')\n",
        "    plt.legend(['train_loss', 'validation_loss'], loc='best')\n",
        "    plt.show()\n",
        "\n",
        "\n",
        "plot_accuracy(history,'FOOD101-Vggnet16_adam_withDO')\n",
        "plot_loss(history,'FOOD101-Vggnet16_adam_withDO')"
      ],
      "execution_count": 19,
      "outputs": [
        {
          "output_type": "stream",
          "text": [
            "Found 75750 images belonging to 101 classes.\n",
            "Found 25250 images belonging to 101 classes.\n",
            "WARNING:tensorflow:From /usr/local/lib/python3.6/dist-packages/tensorflow/python/ops/math_ops.py:3066: to_int32 (from tensorflow.python.ops.math_ops) is deprecated and will be removed in a future version.\n",
            "Instructions for updating:\n",
            "Use tf.cast instead.\n",
            "Epoch 1/20\n",
            "592/591 [==============================] - 1810s 3s/step - loss: 3.7215 - acc: 0.3273 - val_loss: 2.9895 - val_acc: 0.4482\n",
            "\n",
            "Epoch 00001: val_loss improved from inf to 2.98954, saving model to best_model_101class_flip_zoom.hdf5\n",
            "Epoch 2/20\n",
            "592/591 [==============================] - 1762s 3s/step - loss: 2.6460 - acc: 0.5063 - val_loss: 2.5264 - val_acc: 0.5150\n",
            "\n",
            "Epoch 00002: val_loss improved from 2.98954 to 2.52642, saving model to best_model_101class_flip_zoom.hdf5\n",
            "Epoch 3/20\n",
            "592/591 [==============================] - 1761s 3s/step - loss: 2.1249 - acc: 0.5922 - val_loss: 2.1871 - val_acc: 0.5658\n",
            "\n",
            "Epoch 00003: val_loss improved from 2.52642 to 2.18714, saving model to best_model_101class_flip_zoom.hdf5\n",
            "Epoch 4/20\n",
            "592/591 [==============================] - 1762s 3s/step - loss: 1.7529 - acc: 0.6579 - val_loss: 2.0068 - val_acc: 0.5830\n",
            "\n",
            "Epoch 00004: val_loss improved from 2.18714 to 2.00680, saving model to best_model_101class_flip_zoom.hdf5\n",
            "Epoch 5/20\n",
            "592/591 [==============================] - 1759s 3s/step - loss: 1.4584 - acc: 0.7114 - val_loss: 2.0297 - val_acc: 0.5763\n",
            "\n",
            "Epoch 00005: val_loss did not improve from 2.00680\n",
            "Epoch 6/20\n",
            "592/591 [==============================] - 1758s 3s/step - loss: 1.2185 - acc: 0.7579 - val_loss: 1.9810 - val_acc: 0.5873\n",
            "\n",
            "Epoch 00006: val_loss improved from 2.00680 to 1.98103, saving model to best_model_101class_flip_zoom.hdf5\n",
            "Epoch 7/20\n",
            "592/591 [==============================] - 1744s 3s/step - loss: 1.0409 - acc: 0.7930 - val_loss: 1.9527 - val_acc: 0.5898\n",
            "\n",
            "Epoch 00007: val_loss improved from 1.98103 to 1.95266, saving model to best_model_101class_flip_zoom.hdf5\n",
            "Epoch 8/20\n",
            "592/591 [==============================] - 1753s 3s/step - loss: 0.8769 - acc: 0.8280 - val_loss: 1.9381 - val_acc: 0.5913\n",
            "\n",
            "Epoch 00008: val_loss improved from 1.95266 to 1.93807, saving model to best_model_101class_flip_zoom.hdf5\n",
            "Epoch 9/20\n",
            "592/591 [==============================] - 1746s 3s/step - loss: 0.7518 - acc: 0.8523 - val_loss: 2.0431 - val_acc: 0.5869\n",
            "\n",
            "Epoch 00009: val_loss did not improve from 1.93807\n",
            "Epoch 10/20\n",
            "592/591 [==============================] - 1739s 3s/step - loss: 0.6566 - acc: 0.8706 - val_loss: 2.0669 - val_acc: 0.5834\n",
            "\n",
            "Epoch 00010: val_loss did not improve from 1.93807\n",
            "Epoch 11/20\n",
            "592/591 [==============================] - 1731s 3s/step - loss: 0.5700 - acc: 0.8896 - val_loss: 2.0081 - val_acc: 0.5955\n",
            "\n",
            "Epoch 00011: val_loss did not improve from 1.93807\n",
            "Epoch 12/20\n",
            "592/591 [==============================] - 1733s 3s/step - loss: 0.5214 - acc: 0.8970 - val_loss: 2.0553 - val_acc: 0.5858\n",
            "\n",
            "Epoch 00012: val_loss did not improve from 1.93807\n",
            "Epoch 13/20\n",
            "592/591 [==============================] - 1729s 3s/step - loss: 0.4638 - acc: 0.9109 - val_loss: 2.0601 - val_acc: 0.5905\n",
            "\n",
            "Epoch 00013: val_loss did not improve from 1.93807\n",
            "Epoch 14/20\n",
            "592/591 [==============================] - 1726s 3s/step - loss: 0.4270 - acc: 0.9172 - val_loss: 2.0963 - val_acc: 0.5918\n",
            "\n",
            "Epoch 00014: val_loss did not improve from 1.93807\n",
            "Epoch 15/20\n",
            "592/591 [==============================] - 1726s 3s/step - loss: 0.3989 - acc: 0.9200 - val_loss: 2.0807 - val_acc: 0.5956\n",
            "\n",
            "Epoch 00015: val_loss did not improve from 1.93807\n",
            "Epoch 16/20\n",
            "592/591 [==============================] - 1724s 3s/step - loss: 0.3642 - acc: 0.9299 - val_loss: 2.2726 - val_acc: 0.5769\n",
            "\n",
            "Epoch 00016: val_loss did not improve from 1.93807\n",
            "Epoch 17/20\n",
            "592/591 [==============================] - 1714s 3s/step - loss: 0.3430 - acc: 0.9328 - val_loss: 2.1279 - val_acc: 0.5958\n",
            "\n",
            "Epoch 00017: val_loss did not improve from 1.93807\n",
            "Epoch 18/20\n",
            "592/591 [==============================] - 1716s 3s/step - loss: 0.3192 - acc: 0.9375 - val_loss: 2.2129 - val_acc: 0.5887\n",
            "\n",
            "Epoch 00018: val_loss did not improve from 1.93807\n",
            "Epoch 19/20\n",
            "592/591 [==============================] - 1713s 3s/step - loss: 0.3084 - acc: 0.9386 - val_loss: 2.2210 - val_acc: 0.5988\n",
            "\n",
            "Epoch 00019: val_loss did not improve from 1.93807\n",
            "Epoch 20/20\n",
            "592/591 [==============================] - 1719s 3s/step - loss: 0.2860 - acc: 0.9442 - val_loss: 2.2043 - val_acc: 0.5969\n",
            "\n",
            "Epoch 00020: val_loss did not improve from 1.93807\n"
          ],
          "name": "stdout"
        },
        {
          "output_type": "display_data",
          "data": {
            "image/png": "[encoded data removed]",
            "text/plain": [
              "<Figure size 432x288 with 1 Axes>"
            ]
          },
          "metadata": {
            "tags": []
          }
        },
        {
          "output_type": "display_data",
          "data": {
            "image/png": "[encoded data removed]",
            "text/plain": [
              "<Figure size 432x288 with 1 Axes>"
            ]
          },
          "metadata": {
            "tags": []
          }
        }
      ]
    },
    {
      "cell_type": "code",
      "metadata": {
        "id": "IwAOnpXhP-JP",
        "colab_type": "code",
        "colab": {}
      },
      "source": [
        ""
      ],
      "execution_count": 0,
      "outputs": []
    },
    {
      "cell_type": "code",
      "metadata": {
        "id": "L3kk1n9aG8O0",
        "colab_type": "code",
        "colab": {}
      },
      "source": [
        ""
      ],
      "execution_count": 0,
      "outputs": []
    }
  ]
}
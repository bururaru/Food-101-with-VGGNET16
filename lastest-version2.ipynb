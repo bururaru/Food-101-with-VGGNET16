{
  "nbformat": 4,
  "nbformat_minor": 0,
  "metadata": {
    "colab": {
      "name": "lastest",
      "version": "0.3.2",
      "provenance": [],
      "collapsed_sections": [],
      "include_colab_link": true
    },
    "kernelspec": {
      "name": "python3",
      "display_name": "Python 3"
    },
    "accelerator": "GPU"
  },
  "cells": [
    {
      "cell_type": "markdown",
      "metadata": {
        "id": "view-in-github",
        "colab_type": "text"
      },
      "source": [
        "<a href=\"https://colab.research.google.com/github/bururaru/Food-101-with-VGGNET16/blob/master/lastest-version2.ipynb\" target=\"_parent\"><img src=\"https://colab.research.google.com/assets/colab-badge.svg\" alt=\"Open In Colab\"/></a>"
      ]
    },
    {
      "cell_type": "code",
      "metadata": {
        "id": "Orfif2uOYJBG",
        "colab_type": "code",
        "outputId": "7de59b40-62ef-4abc-9333-33539965eb01",
        "colab": {
          "base_uri": "https://localhost:8080/",
          "height": 345
        }
      },
      "source": [
        "# Check if GPU is enabled\n",
        "import tensorflow as tf\n",
        "print(tf.__version__)\n",
        "print(tf.test.gpu_device_name())\n",
        "!nvidia-smi"
      ],
      "execution_count": 0,
      "outputs": [
        {
          "output_type": "stream",
          "text": [
            "1.13.1\n",
            "/device:GPU:0\n",
            "Mon May 27 11:29:51 2019       \n",
            "+-----------------------------------------------------------------------------+\n",
            "| NVIDIA-SMI 418.67       Driver Version: 410.79       CUDA Version: 10.0     |\n",
            "|-------------------------------+----------------------+----------------------+\n",
            "| GPU  Name        Persistence-M| Bus-Id        Disp.A | Volatile Uncorr. ECC |\n",
            "| Fan  Temp  Perf  Pwr:Usage/Cap|         Memory-Usage | GPU-Util  Compute M. |\n",
            "|===============================+======================+======================|\n",
            "|   0  Tesla T4            Off  | 00000000:00:04.0 Off |                    0 |\n",
            "| N/A   56C    P0    28W /  70W |    221MiB / 15079MiB |      0%      Default |\n",
            "+-------------------------------+----------------------+----------------------+\n",
            "                                                                               \n",
            "+-----------------------------------------------------------------------------+\n",
            "| Processes:                                                       GPU Memory |\n",
            "|  GPU       PID   Type   Process name                             Usage      |\n",
            "|=============================================================================|\n",
            "+-----------------------------------------------------------------------------+\n"
          ],
          "name": "stdout"
        }
      ]
    },
    {
      "cell_type": "code",
      "metadata": {
        "id": "rMHQRIMZVWW4",
        "colab_type": "code",
        "outputId": "1490a2ee-3108-4412-d537-021caf924886",
        "colab": {
          "base_uri": "https://localhost:8080/",
          "height": 272
        }
      },
      "source": [
        "  LOG_DIR = 'drive/data/tb_logs'\n",
        "\t\n",
        "  !wget https://bin.equinox.io/c/4VmDzA7iaHb/ngrok-stable-linux-amd64.zip\n",
        "  !unzip ngrok-stable-linux-amd64.zip\n",
        "\t\n",
        "  import os\n",
        "  if not os.path.exists(LOG_DIR):\n",
        "    os.makedirs(LOG_DIR)\n",
        "\t  \n",
        "  get_ipython().system_raw(\n",
        "      'tensorboard --logdir {} --host 0.0.0.0 --port 6006 &'\n",
        "      .format(LOG_DIR))\n",
        "\t\n",
        "  get_ipython().system_raw('./ngrok http 6006 &')\n",
        "\t\n",
        "  !curl -s http://localhost:4040/api/tunnels | python3 -c \\\n",
        "      \"import sys, json; print(json.load(sys.stdin)['tunnels'][0]['public_url'])\""
      ],
      "execution_count": 0,
      "outputs": [
        {
          "output_type": "stream",
          "text": [
            "--2019-05-27 11:30:27--  https://bin.equinox.io/c/4VmDzA7iaHb/ngrok-stable-linux-amd64.zip\n",
            "Resolving bin.equinox.io (bin.equinox.io)... 52.7.169.168, 52.204.188.97, 34.206.36.121, ...\n",
            "Connecting to bin.equinox.io (bin.equinox.io)|52.7.169.168|:443... connected.\n",
            "HTTP request sent, awaiting response... 200 OK\n",
            "Length: 16648024 (16M) [application/octet-stream]\n",
            "Saving to: ‘ngrok-stable-linux-amd64.zip’\n",
            "\n",
            "ngrok-stable-linux- 100%[===================>]  15.88M  18.6MB/s    in 0.9s    \n",
            "\n",
            "2019-05-27 11:30:28 (18.6 MB/s) - ‘ngrok-stable-linux-amd64.zip’ saved [16648024/16648024]\n",
            "\n",
            "Archive:  ngrok-stable-linux-amd64.zip\n",
            "  inflating: ngrok                   \n",
            "https://bc83a5b5.ngrok.io\n"
          ],
          "name": "stdout"
        }
      ]
    },
    {
      "cell_type": "code",
      "metadata": {
        "id": "m_9PIjOPdNnw",
        "colab_type": "code",
        "outputId": "476c04ee-e8ad-4f4f-8e9b-052ec5149329",
        "colab": {
          "base_uri": "https://localhost:8080/",
          "height": 35
        }
      },
      "source": [
        "from google.colab import drive\n",
        "drive.mount('/gdrive')"
      ],
      "execution_count": 0,
      "outputs": [
        {
          "output_type": "stream",
          "text": [
            "Mounted at /gdrive\n"
          ],
          "name": "stdout"
        }
      ]
    },
    {
      "cell_type": "code",
      "metadata": {
        "id": "jWudoKZKdP7x",
        "colab_type": "code",
        "outputId": "63585740-203a-4613-b410-98139ac86d7c",
        "colab": {
          "base_uri": "https://localhost:8080/",
          "height": 35
        }
      },
      "source": [
        "import os\n",
        "import shutil\n",
        "\n",
        "# shutil.copy(\"/gdrive/My Drive/best_model_101class_school.hdf5\", \"/content\")\n",
        "shutil.copy(\"/gdrive/My Drive/food-101.tar.gz\", \"/content\")"
      ],
      "execution_count": 0,
      "outputs": [
        {
          "output_type": "execute_result",
          "data": {
            "text/plain": [
              "'/content/food-101.tar.gz'"
            ]
          },
          "metadata": {
            "tags": []
          },
          "execution_count": 6
        }
      ]
    },
    {
      "cell_type": "code",
      "metadata": {
        "id": "r-T0qbj1YNf-",
        "colab_type": "code",
        "colab": {}
      },
      "source": [
        "# # Helper function to download data and extract\n",
        "# import os\n",
        "# def get_data_extract():\n",
        "#   if \"food-101\" in os.listdir():\n",
        "#     print(\"Dataset already exists\")\n",
        "#   else:\n",
        "#     print(\"Downloading the data...\")\n",
        "#     !wget http://data.vision.ee.ethz.ch/cvl/food-101.tar.gz\n",
        "#     print(\"Dataset downloaded!\")\n",
        "#     print(\"Extracting data..\")\n",
        "#     !tar xzvf food-101.tar.gz\n",
        "#     print(\"Extraction done!\")"
      ],
      "execution_count": 0,
      "outputs": []
    },
    {
      "cell_type": "code",
      "metadata": {
        "id": "AXGd5ybWYO79",
        "colab_type": "code",
        "colab": {}
      },
      "source": [
        "!tar xzvf food-101.tar.gz"
      ],
      "execution_count": 0,
      "outputs": []
    },
    {
      "cell_type": "code",
      "metadata": {
        "id": "PVF-wVRNYQPL",
        "colab_type": "code",
        "outputId": "e6b0dad1-91d7-4b73-dc2c-5df495a90e10",
        "colab": {
          "base_uri": "https://localhost:8080/",
          "height": 35
        }
      },
      "source": [
        "# Check the extracted dataset folder\n",
        "!ls food-101/"
      ],
      "execution_count": 0,
      "outputs": [
        {
          "output_type": "stream",
          "text": [
            "images\tlicense_agreement.txt  meta  README.txt\n"
          ],
          "name": "stdout"
        }
      ]
    },
    {
      "cell_type": "code",
      "metadata": {
        "id": "6_RnwiyCYRAC",
        "colab_type": "code",
        "colab": {}
      },
      "source": [
        "import os\n",
        "os.listdir('food-101/images')"
      ],
      "execution_count": 0,
      "outputs": []
    },
    {
      "cell_type": "code",
      "metadata": {
        "id": "5sY4vPWvYSC1",
        "colab_type": "code",
        "colab": {}
      },
      "source": [
        "os.listdir('food-101/meta')"
      ],
      "execution_count": 0,
      "outputs": []
    },
    {
      "cell_type": "code",
      "metadata": {
        "id": "X14hcGuDYToq",
        "colab_type": "code",
        "colab": {}
      },
      "source": [
        "!head food-101/meta/train.txt"
      ],
      "execution_count": 0,
      "outputs": []
    },
    {
      "cell_type": "code",
      "metadata": {
        "id": "evU4ORPaYUiM",
        "colab_type": "code",
        "colab": {}
      },
      "source": [
        "!head food-101/meta/classes.txt"
      ],
      "execution_count": 0,
      "outputs": []
    },
    {
      "cell_type": "code",
      "metadata": {
        "id": "1TDzV_9sYVgb",
        "colab_type": "code",
        "colab": {}
      },
      "source": [
        "import matplotlib.pyplot as plt\n",
        "import matplotlib.image as img\n",
        "%matplotlib inline\n",
        "import numpy as np\n",
        "from collections import defaultdict\n",
        "import collections\n",
        "import os"
      ],
      "execution_count": 0,
      "outputs": []
    },
    {
      "cell_type": "code",
      "metadata": {
        "id": "b-Z9mZnvYWh9",
        "colab_type": "code",
        "colab": {}
      },
      "source": [
        "# Helper method to split dataset into train and test folders\n",
        "from shutil import copy\n",
        "def prepare_data(filepath, src,dest):\n",
        "  classes_images = defaultdict(list)\n",
        "  with open(filepath, 'r') as txt:\n",
        "      paths = [read.strip() for read in txt.readlines()]\n",
        "      for p in paths:\n",
        "        food = p.split('/')\n",
        "        classes_images[food[0]].append(food[1] + '.jpg')\n",
        "\n",
        "  for food in classes_images.keys():\n",
        "    print(\"\\nCopying images into \",food)\n",
        "    if not os.path.exists(os.path.join(dest,food)):\n",
        "      os.makedirs(os.path.join(dest,food))\n",
        "    for i in classes_images[food]:\n",
        "      copy(os.path.join(src,food,i), os.path.join(dest,food,i))\n",
        "  print(\"Copying Done!\")"
      ],
      "execution_count": 0,
      "outputs": []
    },
    {
      "cell_type": "code",
      "metadata": {
        "id": "VtgPgVvoYXpX",
        "colab_type": "code",
        "colab": {}
      },
      "source": [
        "# Prepare train dataset by copying images from food-101/images to food-101/train using the file train.txt\n",
        "print(\"Creating train data...\")\n",
        "prepare_data('food-101/meta/train.txt', 'food-101/images', 'food-101/train')"
      ],
      "execution_count": 0,
      "outputs": []
    },
    {
      "cell_type": "code",
      "metadata": {
        "id": "dUVgPASnYYuK",
        "colab_type": "code",
        "colab": {}
      },
      "source": [
        "# Prepare test data by copying images from food-101/images to food-101/test using the file test.txt\n",
        "print(\"Creating test data...\")\n",
        "prepare_data('food-101/meta/test.txt', 'food-101/images', 'food-101/test')"
      ],
      "execution_count": 0,
      "outputs": []
    },
    {
      "cell_type": "code",
      "metadata": {
        "id": "5kK5Hy2AYZ6E",
        "colab_type": "code",
        "outputId": "b0686a1d-a310-4af6-98fa-532016a0a98c",
        "colab": {
          "base_uri": "https://localhost:8080/",
          "height": 54
        }
      },
      "source": [
        "# Check how many files are in the train folder\n",
        "print(\"Total number of samples in train folder\")\n",
        "!find food-101/train -type d -or -type f -printf '.' | wc -c"
      ],
      "execution_count": 0,
      "outputs": [
        {
          "output_type": "stream",
          "text": [
            "Total number of samples in train folder\n",
            "75750\n"
          ],
          "name": "stdout"
        }
      ]
    },
    {
      "cell_type": "code",
      "metadata": {
        "id": "2w1P_cWcYatn",
        "colab_type": "code",
        "outputId": "1005852d-f7a3-489d-84cb-7fdea4c557e3",
        "colab": {
          "base_uri": "https://localhost:8080/",
          "height": 54
        }
      },
      "source": [
        "# Check how many files are in the test folder\n",
        "print(\"Total number of samples in test folder\")\n",
        "!find food-101/test -type d -or -type f -printf '.' | wc -c"
      ],
      "execution_count": 0,
      "outputs": [
        {
          "output_type": "stream",
          "text": [
            "Total number of samples in test folder\n",
            "25250\n"
          ],
          "name": "stdout"
        }
      ]
    },
    {
      "cell_type": "code",
      "metadata": {
        "id": "U3B0dPotYb1Y",
        "colab_type": "code",
        "outputId": "c56676d1-687f-4b47-8cec-a5221be7bc71",
        "colab": {
          "base_uri": "https://localhost:8080/",
          "height": 583
        }
      },
      "source": [
        "from keras.applications import VGG16\n",
        "from keras import models\n",
        "from keras import layers\n",
        "from keras import optimizers\n",
        "from tensorflow.keras import regularizers\n",
        "from tensorflow.keras.models import Sequential, Model\n",
        "from tensorflow.keras.layers import Dense, Dropout, Activation, Flatten\n",
        "from tensorflow.keras.layers import Convolution2D, MaxPooling2D, ZeroPadding2D, GlobalAveragePooling2D, AveragePooling2D\n",
        "from tensorflow.keras.preprocessing.image import ImageDataGenerator\n",
        "from tensorflow.keras.callbacks import ModelCheckpoint, CSVLogger\n",
        "# from tensorflow.keras.optimizers import SGD\n",
        "from tensorflow.keras.regularizers import l2\n",
        "from tensorflow import keras\n",
        "import numpy as np\n",
        "from keras.layers.normalization import BatchNormalization\n",
        "\n",
        "vgg_conv = VGG16(weights='imagenet', include_top=False, input_shape=(224, 224, 3))\n",
        "\n",
        "for layer in vgg_conv.layers[:-4]:\n",
        "    layer.trainable = False\n",
        "    \n",
        "# for layer in vgg_conv.layers:\n",
        "#   print(layer, layer.trainable)\n",
        "  \n",
        "model = models.Sequential()\n",
        " \n",
        "model.add(vgg_conv)\n",
        "\n",
        "model.add(layers.Flatten())\n",
        "model.add(layers.Dense(4096, activation='relu'))\n",
        "model.add(BatchNormalization())\n",
        "model.add(layers.Dense(4096, activation='relu'))\n",
        "# model.add(layers.Dense(1000, activation='relu'))\n",
        "# model.add(BatchNormalization(axis=-1, momentum=0.99, epsilon=0.001, center=True, scale=True, beta_initializer='zeros', gamma_initializer='ones', moving_mean_initializer='zeros', moving_variance_initializer='ones', beta_regularizer=None, gamma_regularizer=None, beta_constraint=None, gamma_constraint=None))\n",
        "model.add(layers.Dropout(0.3))\n",
        "model.add(layers.Dense(101,kernel_regularizer=regularizers.l2(0.005), activation='softmax'))\n",
        "\n",
        "model.summary()"
      ],
      "execution_count": 0,
      "outputs": [
        {
          "output_type": "stream",
          "text": [
            "WARNING:tensorflow:From /usr/local/lib/python3.6/dist-packages/tensorflow/python/framework/op_def_library.py:263: colocate_with (from tensorflow.python.framework.ops) is deprecated and will be removed in a future version.\n",
            "Instructions for updating:\n",
            "Colocations handled automatically by placer.\n"
          ],
          "name": "stdout"
        },
        {
          "output_type": "stream",
          "text": [
            "Using TensorFlow backend.\n"
          ],
          "name": "stderr"
        },
        {
          "output_type": "stream",
          "text": [
            "Downloading data from https://github.com/fchollet/deep-learning-models/releases/download/v0.1/vgg16_weights_tf_dim_ordering_tf_kernels_notop.h5\n",
            "58892288/58889256 [==============================] - 2s 0us/step\n",
            "WARNING:tensorflow:From /usr/local/lib/python3.6/dist-packages/keras/backend/tensorflow_backend.py:3445: calling dropout (from tensorflow.python.ops.nn_ops) with keep_prob is deprecated and will be removed in a future version.\n",
            "Instructions for updating:\n",
            "Please use `rate` instead of `keep_prob`. Rate should be set to `rate = 1 - keep_prob`.\n",
            "_________________________________________________________________\n",
            "Layer (type)                 Output Shape              Param #   \n",
            "=================================================================\n",
            "vgg16 (Model)                (None, 7, 7, 512)         14714688  \n",
            "_________________________________________________________________\n",
            "flatten_1 (Flatten)          (None, 25088)             0         \n",
            "_________________________________________________________________\n",
            "dense_1 (Dense)              (None, 4096)              102764544 \n",
            "_________________________________________________________________\n",
            "batch_normalization_1 (Batch (None, 4096)              16384     \n",
            "_________________________________________________________________\n",
            "dense_2 (Dense)              (None, 4096)              16781312  \n",
            "_________________________________________________________________\n",
            "dropout_1 (Dropout)          (None, 4096)              0         \n",
            "_________________________________________________________________\n",
            "dense_3 (Dense)              (None, 101)               413797    \n",
            "=================================================================\n",
            "Total params: 134,690,725\n",
            "Trainable params: 127,047,269\n",
            "Non-trainable params: 7,643,456\n",
            "_________________________________________________________________\n"
          ],
          "name": "stdout"
        }
      ]
    },
    {
      "cell_type": "code",
      "metadata": {
        "id": "YGD91cyWYdgH",
        "colab_type": "code",
        "colab": {}
      },
      "source": [
        "from keras.applications import VGG16\n",
        "from keras import models\n",
        "from keras import layers\n",
        "from keras import optimizers\n",
        "from tensorflow.keras import regularizers\n",
        "from tensorflow.keras.models import Sequential, Model\n",
        "from tensorflow.keras.layers import Dense, Dropout, Activation, Flatten\n",
        "from tensorflow.keras.layers import Convolution2D, MaxPooling2D, ZeroPadding2D, GlobalAveragePooling2D, AveragePooling2D\n",
        "from tensorflow.keras.preprocessing.image import ImageDataGenerator\n",
        "from tensorflow.keras.callbacks import ModelCheckpoint, CSVLogger\n",
        "# from tensorflow.keras.optimizers import SGD\n",
        "from tensorflow.keras.regularizers import l2\n",
        "from tensorflow import keras\n",
        "import numpy as np\n",
        "\n",
        "model = keras.models.load_model('best_model_101class_school2.hdf5')\n",
        "model.summary()"
      ],
      "execution_count": 0,
      "outputs": []
    },
    {
      "cell_type": "code",
      "metadata": {
        "id": "Tg62yqM_Ye4m",
        "colab_type": "code",
        "outputId": "ab675226-5563-421e-b303-2415c806c85e",
        "colab": {
          "base_uri": "https://localhost:8080/",
          "height": 1392
        }
      },
      "source": [
        "from google.colab import files\n",
        "import os\n",
        "import shutil\n",
        "from keras.callbacks import TensorBoard\n",
        "\n",
        "\n",
        "\n",
        "train_datagen = ImageDataGenerator(\n",
        "      rescale=1./255,\n",
        "      rotation_range=20,\n",
        "      width_shift_range=0.2,\n",
        "      height_shift_range=0.2,\n",
        "      horizontal_flip=True,\n",
        "      fill_mode='nearest')\n",
        " \n",
        "validation_datagen = ImageDataGenerator(rescale=1./255)\n",
        " \n",
        "# Change the batchsize according to your system RAM\n",
        "train_batchsize = 128\n",
        "val_batchsize = 32\n",
        "train_dir = 'food-101/train'\n",
        "validation_dir = 'food-101/test'\n",
        "n_classes = 101\n",
        "image_size = 224\n",
        " \n",
        "train_generator = train_datagen.flow_from_directory(\n",
        "        train_dir,\n",
        "        target_size=(image_size, image_size),\n",
        "        batch_size=train_batchsize,\n",
        "        class_mode='categorical')\n",
        " \n",
        "validation_generator = validation_datagen.flow_from_directory(\n",
        "        validation_dir,\n",
        "        target_size=(image_size, image_size),\n",
        "        batch_size=val_batchsize,\n",
        "        class_mode='categorical',\n",
        "        shuffle=False)\n",
        "\n",
        "tbCallBack = TensorBoard(log_dir=LOG_DIR, \n",
        "                         histogram_freq=0,\n",
        "                         write_graph=True,\n",
        "                         write_grads=True,\n",
        "                         batch_size=32,\n",
        "                         write_images=True,\n",
        "                         update_freq='epoch')\n",
        "\n",
        "# Compile the model\n",
        "# model.compile(loss='categorical_crossentropy',\n",
        "#               optimizer=optimizers.RMSprop(lr=1e-3),\n",
        "#               metrics=['acc'])\n",
        "\n",
        "model.compile(loss='categorical_crossentropy',\n",
        "              optimizer=optimizers.Adam(lr=1e-3),\n",
        "              metrics=['acc'])\n",
        "\n",
        "# model.compile(loss='categorical_crossentropy',\n",
        "#               optimizer=optimizers.SGD(lr=1e-4, momentum=0.9),\n",
        "#               metrics=['acc'])\n",
        "\n",
        "checkpointer = ModelCheckpoint(filepath='best_model_101class_school4.hdf5', verbose=1, save_best_only=True)\n",
        "csv_logger = CSVLogger('history4.log', separator='/', append=True)\n",
        "\n",
        "# Train the model\n",
        "history = model.fit_generator(\n",
        "      train_generator,\n",
        "      steps_per_epoch=train_generator.samples/train_generator.batch_size ,\n",
        "      epochs=10,\n",
        "      validation_data=validation_generator,\n",
        "      validation_steps=validation_generator.samples/validation_generator.batch_size,\n",
        "      verbose=1,\n",
        "      callbacks=[csv_logger, checkpointer, tbCallBack])\n",
        " \n",
        "# Save the model\n",
        "model.save('best_model_101class_school4.hdf5')\n",
        "\n",
        "shutil.copy(\"/content/history4.log\", \"/gdrive/My Drive\")\n",
        "shutil.copy(\"/content/best_model_101class_school4.hdf5\", \"/gdrive/My Drive\")\n",
        "\n",
        "import matplotlib.pyplot as plt\n",
        "def plot_accuracy(history,title):\n",
        "    plt.title(title)\n",
        "    plt.plot(history.history['acc'])\n",
        "    plt.plot(history.history['val_acc'])\n",
        "    plt.ylabel('accuracy')\n",
        "    plt.xlabel('epoch')\n",
        "    plt.legend(['train_accuracy', 'validation_accuracy'], loc='best')\n",
        "    plt.show()\n",
        "def plot_loss(history,title):\n",
        "    plt.title(title)\n",
        "    plt.plot(history.history['loss'])\n",
        "    plt.plot(history.history['val_loss'])\n",
        "    plt.ylabel('loss')\n",
        "    plt.xlabel('epoch')\n",
        "    plt.legend(['train_loss', 'validation_loss'], loc='best')\n",
        "    plt.show()\n",
        "\n",
        "\n",
        "plot_accuracy(history,'FOOD101-Vggnet16_adam_withDO')\n",
        "plot_loss(history,'FOOD101-Vggnet16_adam_withDO')"
      ],
      "execution_count": 22,
      "outputs": [
        {
          "output_type": "stream",
          "text": [
            "Found 75750 images belonging to 101 classes.\n",
            "Found 25250 images belonging to 101 classes.\n",
            "WARNING:tensorflow:From /usr/local/lib/python3.6/dist-packages/tensorflow/python/ops/math_ops.py:3066: to_int32 (from tensorflow.python.ops.math_ops) is deprecated and will be removed in a future version.\n",
            "Instructions for updating:\n",
            "Use tf.cast instead.\n",
            "Epoch 1/10\n",
            "592/591 [==============================] - 1397s 2s/step - loss: 4.3216 - acc: 0.1238 - val_loss: 4.7321 - val_acc: 0.1207\n",
            "\n",
            "Epoch 00001: val_loss improved from inf to 4.73211, saving model to best_model_101class_school4.hdf5\n",
            "Epoch 2/10\n",
            "592/591 [==============================] - 1356s 2s/step - loss: 3.3425 - acc: 0.2189 - val_loss: 4.9242 - val_acc: 0.1136\n",
            "\n",
            "Epoch 00002: val_loss did not improve from 4.73211\n",
            "Epoch 3/10\n",
            "592/591 [==============================] - 1347s 2s/step - loss: 3.3752 - acc: 0.2173 - val_loss: 12.0157 - val_acc: 0.0290\n",
            "\n",
            "Epoch 00003: val_loss did not improve from 4.73211\n",
            "Epoch 4/10\n",
            "592/591 [==============================] - 1350s 2s/step - loss: 3.2067 - acc: 0.2457 - val_loss: 4.2859 - val_acc: 0.1756\n",
            "\n",
            "Epoch 00004: val_loss improved from 4.73211 to 4.28587, saving model to best_model_101class_school4.hdf5\n",
            "Epoch 5/10\n",
            "592/591 [==============================] - 1349s 2s/step - loss: 2.9144 - acc: 0.3073 - val_loss: 3.3491 - val_acc: 0.2643\n",
            "\n",
            "Epoch 00005: val_loss improved from 4.28587 to 3.34914, saving model to best_model_101class_school4.hdf5\n",
            "Epoch 6/10\n",
            "592/591 [==============================] - 1357s 2s/step - loss: 2.7792 - acc: 0.3410 - val_loss: 2.8241 - val_acc: 0.3320\n",
            "\n",
            "Epoch 00006: val_loss improved from 3.34914 to 2.82405, saving model to best_model_101class_school4.hdf5\n",
            "Epoch 7/10\n",
            "592/591 [==============================] - 1361s 2s/step - loss: 2.6609 - acc: 0.3669 - val_loss: 2.9689 - val_acc: 0.3345\n",
            "\n",
            "Epoch 00007: val_loss did not improve from 2.82405\n",
            "Epoch 8/10\n",
            "592/591 [==============================] - 1359s 2s/step - loss: 2.5317 - acc: 0.3972 - val_loss: 2.4510 - val_acc: 0.4271\n",
            "\n",
            "Epoch 00008: val_loss improved from 2.82405 to 2.45102, saving model to best_model_101class_school4.hdf5\n",
            "Epoch 9/10\n",
            "592/591 [==============================] - 1360s 2s/step - loss: 2.4627 - acc: 0.4122 - val_loss: 2.5703 - val_acc: 0.3979\n",
            "\n",
            "Epoch 00009: val_loss did not improve from 2.45102\n",
            "Epoch 10/10\n",
            "592/591 [==============================] - 1355s 2s/step - loss: 2.3648 - acc: 0.4357 - val_loss: 2.6550 - val_acc: 0.4236\n",
            "\n",
            "Epoch 00010: val_loss did not improve from 2.45102\n"
          ],
          "name": "stdout"
        },
        {
          "output_type": "display_data",
          "data": {
            "image/png": "[encoded data removed]",
            "text/plain": [
              "<Figure size 432x288 with 1 Axes>"
            ]
          },
          "metadata": {
            "tags": []
          }
        },
        {
          "output_type": "display_data",
          "data": {
            "image/png": "[encoded data removed]",
            "text/plain": [
              "<Figure size 432x288 with 1 Axes>"
            ]
          },
          "metadata": {
            "tags": []
          }
        }
      ]
    },
    {
      "cell_type": "code",
      "metadata": {
        "id": "IwAOnpXhP-JP",
        "colab_type": "code",
        "colab": {}
      },
      "source": [
        ""
      ],
      "execution_count": 0,
      "outputs": []
    },
    {
      "cell_type": "code",
      "metadata": {
        "id": "L3kk1n9aG8O0",
        "colab_type": "code",
        "colab": {}
      },
      "source": [
        ""
      ],
      "execution_count": 0,
      "outputs": []
    }
  ]
}
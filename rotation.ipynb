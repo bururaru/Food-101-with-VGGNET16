{
  "nbformat": 4,
  "nbformat_minor": 0,
  "metadata": {
    "colab": {
      "name": "lastest_company",
      "version": "0.3.2",
      "provenance": []
    },
    "kernelspec": {
      "name": "python3",
      "display_name": "Python 3"
    },
    "accelerator": "GPU"
  },
  "cells": [
    {
      "cell_type": "code",
      "metadata": {
        "id": "Z5nF5HlTeA1e",
        "colab_type": "code",
        "outputId": "19e36697-91d2-44ed-bd9f-b250ea3c04cc",
        "colab": {
          "base_uri": "https://localhost:8080/",
          "height": 345
        }
      },
      "source": [
        "# Check if GPU is enabled\n",
        "import tensorflow as tf\n",
        "print(tf.__version__)\n",
        "print(tf.test.gpu_device_name())\n",
        "!nvidia-smi"
      ],
      "execution_count": 0,
      "outputs": [
        {
          "output_type": "stream",
          "text": [
            "1.13.1\n",
            "/device:GPU:0\n",
            "Wed May 29 11:03:03 2019       \n",
            "+-----------------------------------------------------------------------------+\n",
            "| NVIDIA-SMI 418.67       Driver Version: 410.79       CUDA Version: 10.0     |\n",
            "|-------------------------------+----------------------+----------------------+\n",
            "| GPU  Name        Persistence-M| Bus-Id        Disp.A | Volatile Uncorr. ECC |\n",
            "| Fan  Temp  Perf  Pwr:Usage/Cap|         Memory-Usage | GPU-Util  Compute M. |\n",
            "|===============================+======================+======================|\n",
            "|   0  Tesla T4            Off  | 00000000:00:04.0 Off |                    0 |\n",
            "| N/A   66C    P0    31W /  70W |    221MiB / 15079MiB |      2%      Default |\n",
            "+-------------------------------+----------------------+----------------------+\n",
            "                                                                               \n",
            "+-----------------------------------------------------------------------------+\n",
            "| Processes:                                                       GPU Memory |\n",
            "|  GPU       PID   Type   Process name                             Usage      |\n",
            "|=============================================================================|\n",
            "+-----------------------------------------------------------------------------+\n"
          ],
          "name": "stdout"
        }
      ]
    },
    {
      "cell_type": "code",
      "metadata": {
        "id": "54LkLOKfeYrE",
        "colab_type": "code",
        "outputId": "06a7e761-227b-44e7-eeff-8747e20dd21e",
        "colab": {
          "base_uri": "https://localhost:8080/",
          "height": 128
        }
      },
      "source": [
        "from google.colab import drive\n",
        "drive.mount('/gdrive')"
      ],
      "execution_count": 0,
      "outputs": [
        {
          "output_type": "stream",
          "text": [
            "Go to this URL in a browser: https://accounts.google.com/o/oauth2/auth?client_id=947318989803-6bn6qk8qdgf4n4g3pfee6491hc0brc4i.apps.googleusercontent.com&redirect_uri=urn%3Aietf%3Awg%3Aoauth%3A2.0%3Aoob&scope=email%20https%3A%2F%2Fwww.googleapis.com%2Fauth%2Fdocs.test%20https%3A%2F%2Fwww.googleapis.com%2Fauth%2Fdrive%20https%3A%2F%2Fwww.googleapis.com%2Fauth%2Fdrive.photos.readonly%20https%3A%2F%2Fwww.googleapis.com%2Fauth%2Fpeopleapi.readonly&response_type=code\n",
            "\n",
            "Enter your authorization code:\n",
            "··········\n",
            "Mounted at /gdrive\n"
          ],
          "name": "stdout"
        }
      ]
    },
    {
      "cell_type": "code",
      "metadata": {
        "id": "aUSh5cd2xKLW",
        "colab_type": "code",
        "outputId": "9a266561-42f2-40aa-d63a-2a9299f7237e",
        "colab": {
          "base_uri": "https://localhost:8080/",
          "height": 35
        }
      },
      "source": [
        "import os\n",
        "import shutil\n",
        "\n",
        "# shutil.copy(\"/gdrive/My Drive/best_model_101class_company.hdf5\", \"/content\")\n",
        "shutil.copy(\"/gdrive/My Drive/food-101.tar.gz\", \"/content\")"
      ],
      "execution_count": 0,
      "outputs": [
        {
          "output_type": "execute_result",
          "data": {
            "text/plain": [
              "'/content/food-101.tar.gz'"
            ]
          },
          "metadata": {
            "tags": []
          },
          "execution_count": 3
        }
      ]
    },
    {
      "cell_type": "code",
      "metadata": {
        "id": "Vq8kT-qLeL7-",
        "colab_type": "code",
        "colab": {}
      },
      "source": [
        "!tar xzvf food-101.tar.gz"
      ],
      "execution_count": 0,
      "outputs": []
    },
    {
      "cell_type": "code",
      "metadata": {
        "id": "_sJdI6QHeNZ1",
        "colab_type": "code",
        "outputId": "25358945-b610-45c4-8abf-59b28f4223ec",
        "colab": {
          "base_uri": "https://localhost:8080/"
        }
      },
      "source": [
        "# Check the extracted dataset folder\n",
        "!ls food-101/"
      ],
      "execution_count": 0,
      "outputs": [
        {
          "output_type": "stream",
          "text": [
            "images\tlicense_agreement.txt  meta  README.txt\n"
          ],
          "name": "stdout"
        }
      ]
    },
    {
      "cell_type": "code",
      "metadata": {
        "id": "8lJOu9xGeOCC",
        "colab_type": "code",
        "outputId": "2d36e9a4-d101-4995-c398-4e3974253454",
        "colab": {
          "base_uri": "https://localhost:8080/"
        }
      },
      "source": [
        "import os\n",
        "os.listdir('food-101/images')"
      ],
      "execution_count": 0,
      "outputs": [
        {
          "output_type": "execute_result",
          "data": {
            "text/plain": [
              "['edamame',\n",
              " 'ice_cream',\n",
              " 'tacos',\n",
              " 'pho',\n",
              " 'gyoza',\n",
              " 'fried_calamari',\n",
              " 'greek_salad',\n",
              " 'clam_chowder',\n",
              " 'steak',\n",
              " 'cheese_plate',\n",
              " 'caesar_salad',\n",
              " 'french_fries',\n",
              " 'crab_cakes',\n",
              " 'hot_and_sour_soup',\n",
              " 'churros',\n",
              " 'grilled_salmon',\n",
              " 'bread_pudding',\n",
              " 'lasagna',\n",
              " 'fried_rice',\n",
              " 'beef_carpaccio',\n",
              " 'oysters',\n",
              " 'escargots',\n",
              " 'apple_pie',\n",
              " 'pork_chop',\n",
              " 'mussels',\n",
              " 'beet_salad',\n",
              " 'spaghetti_carbonara',\n",
              " 'fish_and_chips',\n",
              " 'eggs_benedict',\n",
              " 'gnocchi',\n",
              " 'shrimp_and_grits',\n",
              " 'french_toast',\n",
              " 'omelette',\n",
              " 'spring_rolls',\n",
              " 'hummus',\n",
              " 'cup_cakes',\n",
              " 'baby_back_ribs',\n",
              " 'sashimi',\n",
              " 'cannoli',\n",
              " 'pizza',\n",
              " 'caprese_salad',\n",
              " 'baklava',\n",
              " 'filet_mignon',\n",
              " 'pulled_pork_sandwich',\n",
              " 'waffles',\n",
              " 'macarons',\n",
              " 'french_onion_soup',\n",
              " 'chocolate_cake',\n",
              " 'scallops',\n",
              " 'chicken_wings',\n",
              " 'tuna_tartare',\n",
              " 'hamburger',\n",
              " 'breakfast_burrito',\n",
              " 'seaweed_salad',\n",
              " 'ravioli',\n",
              " 'paella',\n",
              " 'miso_soup',\n",
              " 'chicken_quesadilla',\n",
              " 'creme_brulee',\n",
              " 'foie_gras',\n",
              " 'garlic_bread',\n",
              " 'guacamole',\n",
              " 'ramen',\n",
              " 'cheesecake',\n",
              " 'panna_cotta',\n",
              " 'risotto',\n",
              " 'sushi',\n",
              " 'pad_thai',\n",
              " 'strawberry_shortcake',\n",
              " 'lobster_roll_sandwich',\n",
              " 'lobster_bisque',\n",
              " 'carrot_cake',\n",
              " 'bibimbap',\n",
              " 'deviled_eggs',\n",
              " 'club_sandwich',\n",
              " 'hot_dog',\n",
              " 'dumplings',\n",
              " 'poutine',\n",
              " 'tiramisu',\n",
              " 'chicken_curry',\n",
              " 'grilled_cheese_sandwich',\n",
              " 'chocolate_mousse',\n",
              " 'prime_rib',\n",
              " 'beignets',\n",
              " 'ceviche',\n",
              " 'croque_madame',\n",
              " 'takoyaki',\n",
              " 'onion_rings',\n",
              " 'red_velvet_cake',\n",
              " 'nachos',\n",
              " 'huevos_rancheros',\n",
              " 'spaghetti_bolognese',\n",
              " 'frozen_yogurt',\n",
              " 'donuts',\n",
              " 'falafel',\n",
              " 'pancakes',\n",
              " 'peking_duck',\n",
              " 'bruschetta',\n",
              " 'macaroni_and_cheese',\n",
              " 'samosa',\n",
              " 'beef_tartare']"
            ]
          },
          "metadata": {
            "tags": []
          },
          "execution_count": 6
        }
      ]
    },
    {
      "cell_type": "code",
      "metadata": {
        "id": "du_0p-mQeRAf",
        "colab_type": "code",
        "colab": {}
      },
      "source": [
        "import matplotlib.pyplot as plt\n",
        "import matplotlib.image as img\n",
        "%matplotlib inline\n",
        "import numpy as np\n",
        "from collections import defaultdict\n",
        "import collections\n",
        "import os"
      ],
      "execution_count": 0,
      "outputs": []
    },
    {
      "cell_type": "code",
      "metadata": {
        "id": "sFLF4OtReRl2",
        "colab_type": "code",
        "colab": {}
      },
      "source": [
        "# Helper method to split dataset into train and test folders\n",
        "from shutil import copy\n",
        "def prepare_data(filepath, src,dest):\n",
        "  classes_images = defaultdict(list)\n",
        "  with open(filepath, 'r') as txt:\n",
        "      paths = [read.strip() for read in txt.readlines()]\n",
        "      for p in paths:\n",
        "        food = p.split('/')\n",
        "        classes_images[food[0]].append(food[1] + '.jpg')\n",
        "\n",
        "  for food in classes_images.keys():\n",
        "    print(\"\\nCopying images into \",food)\n",
        "    if not os.path.exists(os.path.join(dest,food)):\n",
        "      os.makedirs(os.path.join(dest,food))\n",
        "    for i in classes_images[food]:\n",
        "      copy(os.path.join(src,food,i), os.path.join(dest,food,i))\n",
        "  print(\"Copying Done!\")"
      ],
      "execution_count": 0,
      "outputs": []
    },
    {
      "cell_type": "code",
      "metadata": {
        "id": "Zi9ip7VseSSO",
        "colab_type": "code",
        "colab": {}
      },
      "source": [
        "# Prepare train dataset by copying images from food-101/images to food-101/train using the file train.txt\n",
        "print(\"Creating train data...\")\n",
        "prepare_data('food-101/meta/train.txt', 'food-101/images', 'food-101/train')"
      ],
      "execution_count": 0,
      "outputs": []
    },
    {
      "cell_type": "code",
      "metadata": {
        "id": "T1FDwRYteTLs",
        "colab_type": "code",
        "colab": {}
      },
      "source": [
        "# Prepare test data by copying images from food-101/images to food-101/test using the file test.txt\n",
        "print(\"Creating test data...\")\n",
        "prepare_data('food-101/meta/test.txt', 'food-101/images', 'food-101/test')"
      ],
      "execution_count": 0,
      "outputs": []
    },
    {
      "cell_type": "code",
      "metadata": {
        "id": "q13SG7aHeUMa",
        "colab_type": "code",
        "outputId": "1fad4715-3838-4850-d5c6-215267bfba13",
        "colab": {
          "base_uri": "https://localhost:8080/",
          "height": 54
        }
      },
      "source": [
        "# Check how many files are in the train folder\n",
        "print(\"Total number of samples in train folder\")\n",
        "!find food-101/train -type d -or -type f -printf '.' | wc -c"
      ],
      "execution_count": 0,
      "outputs": [
        {
          "output_type": "stream",
          "text": [
            "Total number of samples in train folder\n",
            "75750\n"
          ],
          "name": "stdout"
        }
      ]
    },
    {
      "cell_type": "code",
      "metadata": {
        "id": "2bDSDkzEeUxu",
        "colab_type": "code",
        "outputId": "01dd9903-a9b3-4172-d5d9-f239032e6463",
        "colab": {
          "base_uri": "https://localhost:8080/",
          "height": 54
        }
      },
      "source": [
        "# Check how many files are in the test folder\n",
        "print(\"Total number of samples in test folder\")\n",
        "!find food-101/test -type d -or -type f -printf '.' | wc -c"
      ],
      "execution_count": 0,
      "outputs": [
        {
          "output_type": "stream",
          "text": [
            "Total number of samples in test folder\n",
            "25250\n"
          ],
          "name": "stdout"
        }
      ]
    },
    {
      "cell_type": "code",
      "metadata": {
        "id": "eNIYmH7eecGd",
        "colab_type": "code",
        "outputId": "5d0006b9-d153-4102-fd9e-834399f11c15",
        "colab": {
          "base_uri": "https://localhost:8080/",
          "height": 563
        }
      },
      "source": [
        "from keras.applications import VGG16\n",
        "from keras import models\n",
        "from keras import layers\n",
        "from keras import optimizers\n",
        "from tensorflow.keras import regularizers\n",
        "from tensorflow.keras.models import Sequential, Model\n",
        "from tensorflow.keras.layers import Dense, Dropout, Activation, Flatten\n",
        "from tensorflow.keras.layers import Convolution2D, MaxPooling2D, ZeroPadding2D, GlobalAveragePooling2D, AveragePooling2D\n",
        "from tensorflow.keras.preprocessing.image import ImageDataGenerator\n",
        "from tensorflow.keras.callbacks import ModelCheckpoint, CSVLogger\n",
        "from tensorflow.keras.regularizers import l2\n",
        "from tensorflow import keras\n",
        "import numpy as np\n",
        "from keras.layers.normalization import BatchNormalization\n",
        "\n",
        "vgg_conv = VGG16(weights='imagenet', include_top=False, input_shape=(224, 224, 3))\n",
        "\n",
        "for layer in vgg_conv.layers[:-4]:\n",
        "    layer.trainable = False\n",
        "    \n",
        "# for layer in vgg_conv.layers:\n",
        "#   print(layer, layer.trainable)\n",
        "  \n",
        "model = models.Sequential()\n",
        "\n",
        "model.add(vgg_conv)\n",
        "\n",
        "model.add(layers.Flatten())\n",
        "model.add(layers.Dense(4096, activation='relu'))\n",
        "model.add(BatchNormalization())\n",
        "model.add(layers.Dense(4096, activation='relu'))\n",
        "# model.add(BatchNormalization())\n",
        "# model.add(layers.Dense(1000, activation='relu'))\n",
        "# model.add(BatchNormalization(axis=-1, momentum=0.99, epsilon=0.001, center=True, scale=True, beta_initializer='zeros', gamma_initializer='ones', moving_mean_initializer='zeros', moving_variance_initializer='ones', beta_regularizer=None, gamma_regularizer=None, beta_constraint=None, gamma_constraint=None))\n",
        "model.add(layers.Dropout(0.3))\n",
        "model.add(layers.Dense(101,kernel_regularizer=regularizers.l2(0.005), activation='softmax'))\n",
        "\n",
        "model.summary()"
      ],
      "execution_count": 0,
      "outputs": [
        {
          "output_type": "stream",
          "text": [
            "WARNING:tensorflow:From /usr/local/lib/python3.6/dist-packages/tensorflow/python/framework/op_def_library.py:263: colocate_with (from tensorflow.python.framework.ops) is deprecated and will be removed in a future version.\n",
            "Instructions for updating:\n",
            "Colocations handled automatically by placer.\n"
          ],
          "name": "stdout"
        },
        {
          "output_type": "stream",
          "text": [
            "Using TensorFlow backend.\n"
          ],
          "name": "stderr"
        },
        {
          "output_type": "stream",
          "text": [
            "Downloading data from https://github.com/fchollet/deep-learning-models/releases/download/v0.1/vgg16_weights_tf_dim_ordering_tf_kernels_notop.h5\n",
            "58892288/58889256 [==============================] - 2s 0us/step\n",
            "WARNING:tensorflow:From /usr/local/lib/python3.6/dist-packages/keras/backend/tensorflow_backend.py:3445: calling dropout (from tensorflow.python.ops.nn_ops) with keep_prob is deprecated and will be removed in a future version.\n",
            "Instructions for updating:\n",
            "Please use `rate` instead of `keep_prob`. Rate should be set to `rate = 1 - keep_prob`.\n",
            "_________________________________________________________________\n",
            "Layer (type)                 Output Shape              Param #   \n",
            "=================================================================\n",
            "vgg16 (Model)                (None, 7, 7, 512)         14714688  \n",
            "_________________________________________________________________\n",
            "flatten_1 (Flatten)          (None, 25088)             0         \n",
            "_________________________________________________________________\n",
            "dense_1 (Dense)              (None, 4096)              102764544 \n",
            "_________________________________________________________________\n",
            "batch_normalization_1 (Batch (None, 4096)              16384     \n",
            "_________________________________________________________________\n",
            "dense_2 (Dense)              (None, 4096)              16781312  \n",
            "_________________________________________________________________\n",
            "dropout_1 (Dropout)          (None, 4096)              0         \n",
            "_________________________________________________________________\n",
            "dense_3 (Dense)              (None, 101)               413797    \n",
            "=================================================================\n",
            "Total params: 134,690,725\n",
            "Trainable params: 127,047,269\n",
            "Non-trainable params: 7,643,456\n",
            "_________________________________________________________________\n"
          ],
          "name": "stdout"
        }
      ]
    },
    {
      "cell_type": "code",
      "metadata": {
        "id": "2QxK8xgtedhA",
        "colab_type": "code",
        "colab": {}
      },
      "source": [
        "from keras.applications import VGG16\n",
        "from keras import models\n",
        "from keras import layers\n",
        "from keras import optimizers\n",
        "from tensorflow.keras import regularizers\n",
        "from tensorflow.keras.models import Sequential, Model\n",
        "from tensorflow.keras.layers import Dense, Dropout, Activation, Flatten\n",
        "from tensorflow.keras.layers import Convolution2D, MaxPooling2D, ZeroPadding2D, GlobalAveragePooling2D, AveragePooling2D\n",
        "from tensorflow.keras.preprocessing.image import ImageDataGenerator\n",
        "from tensorflow.keras.callbacks import ModelCheckpoint, CSVLogger\n",
        "# from tensorflow.keras.optimizers import SGD\n",
        "from tensorflow.keras.regularizers import l2\n",
        "from tensorflow import keras\n",
        "import numpy as np\n",
        "\n",
        "model = keras.models.load_model('best_model_101class_company.hdf5')\n",
        "model.summary()"
      ],
      "execution_count": 0,
      "outputs": []
    },
    {
      "cell_type": "code",
      "metadata": {
        "id": "l-t7rLkJeeVF",
        "colab_type": "code",
        "outputId": "25eb2583-75de-4164-f8f2-d2e120a8a1e8",
        "colab": {
          "base_uri": "https://localhost:8080/",
          "height": 2119
        }
      },
      "source": [
        "from google.colab import files\n",
        "import os\n",
        "import shutil\n",
        "\n",
        "\n",
        "# train_datagen = ImageDataGenerator(\n",
        "#       rescale=1./255,\n",
        "#       rotation_range=30,\n",
        "#       width_shift_range=0.2,\n",
        "#       height_shift_range=0.2,\n",
        "#       horizontal_flip=True,\n",
        "#       fill_mode='nearest')\n",
        "\n",
        "train_datagen = ImageDataGenerator(\n",
        "      rescale=1./255,\n",
        "      rotation_range=30)\n",
        " \n",
        "validation_datagen = ImageDataGenerator(rescale=1./255)\n",
        " \n",
        "# Change the batchsize according to your system RAM\n",
        "train_batchsize = 128\n",
        "val_batchsize = 32\n",
        "train_dir = 'food-101/train'\n",
        "validation_dir = 'food-101/test'\n",
        "n_classes = 101\n",
        "image_size = 224\n",
        " \n",
        "train_generator = train_datagen.flow_from_directory(\n",
        "        train_dir,\n",
        "        target_size=(image_size, image_size),\n",
        "        batch_size=train_batchsize,\n",
        "        class_mode='categorical')\n",
        " \n",
        "validation_generator = validation_datagen.flow_from_directory(\n",
        "        validation_dir,\n",
        "        target_size=(image_size, image_size),\n",
        "        batch_size=val_batchsize,\n",
        "        class_mode='categorical',\n",
        "        shuffle=False)\n",
        "\n",
        "# model.compile(loss='categorical_crossentropy',\n",
        "#               optimizer=optimizers.RMSprop(lr=1e-4),\n",
        "#               metrics=['acc'])\n",
        "\n",
        "model.compile(loss='categorical_crossentropy',\n",
        "              optimizer=optimizers.Adam(lr=1e-4),\n",
        "              metrics=['acc'])\n",
        "\n",
        "# model.compile(loss='categorical_crossentropy',\n",
        "#               optimizer=optimizers.SGD(lr=1e-4, momentum=0.9),\n",
        "#               metrics=['acc'])\n",
        "\n",
        "checkpointer = ModelCheckpoint(filepath='best_model_101class_rotation.hdf5', verbose=1, save_best_only=True)\n",
        "csv_logger = CSVLogger('history_rotation.log', separator='/', append=True)\n",
        "\n",
        "# Train the model\n",
        "history = model.fit_generator(\n",
        "      train_generator,\n",
        "      steps_per_epoch=train_generator.samples/train_generator.batch_size ,\n",
        "      epochs=20,\n",
        "      validation_data=validation_generator,\n",
        "      validation_steps=validation_generator.samples/validation_generator.batch_size,\n",
        "      verbose=1,\n",
        "      callbacks=[csv_logger, checkpointer])\n",
        " \n",
        "# Save the model\n",
        "model.save('best_model_101class_rotation.hdf5')\n",
        "\n",
        "shutil.copy(\"/content/history_rotation.log\", \"/gdrive/My Drive\")\n",
        "shutil.copy(\"/content/best_model_101class_rotation.hdf5\", \"/gdrive/My Drive\")\n",
        "\n",
        "# files.download('best_model_101class.hdf5')\n",
        "# files.download('history.log')\n",
        "\n",
        "# source_path = \"/content/best_model_101class_company.hdf5\"\n",
        "# target_path = \"/gdrive/My Drive\"\n",
        "\n",
        "# if not os.path.exists(target_path):\n",
        "#     shutil.copy(source_path, target_path)\n",
        "import matplotlib.pyplot as plt\n",
        "def plot_accuracy(history,title):\n",
        "    plt.title(title)\n",
        "    plt.plot(history.history['acc'])\n",
        "    plt.plot(history.history['val_acc'])\n",
        "    plt.ylabel('accuracy')\n",
        "    plt.xlabel('epoch')\n",
        "    plt.legend(['train_accuracy', 'validation_accuracy'], loc='best')\n",
        "    plt.show()\n",
        "def plot_loss(history,title):\n",
        "    plt.title(title)\n",
        "    plt.plot(history.history['loss'])\n",
        "    plt.plot(history.history['val_loss'])\n",
        "    plt.ylabel('loss')\n",
        "    plt.xlabel('epoch')\n",
        "    plt.legend(['train_loss', 'validation_loss'], loc='best')\n",
        "    plt.show()\n",
        "\n",
        "\n",
        "plot_accuracy(history,'FOOD101-Vggnet16_adam_withDO')\n",
        "plot_loss(history,'FOOD101-Vggnet16_adam_withDO')"
      ],
      "execution_count": 0,
      "outputs": [
        {
          "output_type": "stream",
          "text": [
            "Found 75750 images belonging to 101 classes.\n",
            "Found 25250 images belonging to 101 classes.\n",
            "WARNING:tensorflow:From /usr/local/lib/python3.6/dist-packages/tensorflow/python/ops/math_ops.py:3066: to_int32 (from tensorflow.python.ops.math_ops) is deprecated and will be removed in a future version.\n",
            "Instructions for updating:\n",
            "Use tf.cast instead.\n",
            "Epoch 1/20\n",
            "592/591 [==============================] - 1402s 2s/step - loss: 3.7312 - acc: 0.3258 - val_loss: 2.9428 - val_acc: 0.4542\n",
            "\n",
            "Epoch 00001: val_loss improved from inf to 2.94278, saving model to best_model_101class_rotation.hdf5\n",
            "Epoch 2/20\n",
            "592/591 [==============================] - 1361s 2s/step - loss: 2.6268 - acc: 0.5114 - val_loss: 2.4687 - val_acc: 0.5200\n",
            "\n",
            "Epoch 00002: val_loss improved from 2.94278 to 2.46870, saving model to best_model_101class_rotation.hdf5\n",
            "Epoch 3/20\n",
            "592/591 [==============================] - 1357s 2s/step - loss: 2.0650 - acc: 0.6076 - val_loss: 2.2826 - val_acc: 0.5488\n",
            "\n",
            "Epoch 00003: val_loss improved from 2.46870 to 2.28263, saving model to best_model_101class_rotation.hdf5\n",
            "Epoch 4/20\n",
            "592/591 [==============================] - 1352s 2s/step - loss: 1.6424 - acc: 0.6886 - val_loss: 2.1856 - val_acc: 0.5591\n",
            "\n",
            "Epoch 00004: val_loss improved from 2.28263 to 2.18556, saving model to best_model_101class_rotation.hdf5\n",
            "Epoch 5/20\n",
            "592/591 [==============================] - 1366s 2s/step - loss: 1.3196 - acc: 0.7514 - val_loss: 2.1191 - val_acc: 0.5750\n",
            "\n",
            "Epoch 00005: val_loss improved from 2.18556 to 2.11909, saving model to best_model_101class_rotation.hdf5\n",
            "Epoch 6/20\n",
            "592/591 [==============================] - 1363s 2s/step - loss: 1.0620 - acc: 0.8025 - val_loss: 2.0322 - val_acc: 0.5805\n",
            "\n",
            "Epoch 00006: val_loss improved from 2.11909 to 2.03217, saving model to best_model_101class_rotation.hdf5\n",
            "Epoch 7/20\n",
            "592/591 [==============================] - 1365s 2s/step - loss: 0.8583 - acc: 0.8449 - val_loss: 2.0776 - val_acc: 0.5747\n",
            "\n",
            "Epoch 00007: val_loss did not improve from 2.03217\n",
            "Epoch 8/20\n",
            "592/591 [==============================] - 1357s 2s/step - loss: 0.7178 - acc: 0.8727 - val_loss: 2.1743 - val_acc: 0.5629\n",
            "\n",
            "Epoch 00008: val_loss did not improve from 2.03217\n",
            "Epoch 9/20\n",
            "592/591 [==============================] - 1359s 2s/step - loss: 0.6184 - acc: 0.8907 - val_loss: 2.2165 - val_acc: 0.5722\n",
            "\n",
            "Epoch 00009: val_loss did not improve from 2.03217\n",
            "Epoch 10/20\n",
            "592/591 [==============================] - 1357s 2s/step - loss: 0.5281 - acc: 0.9083 - val_loss: 2.1764 - val_acc: 0.5651\n",
            "\n",
            "Epoch 00010: val_loss did not improve from 2.03217\n",
            "Epoch 11/20\n",
            "592/591 [==============================] - 1356s 2s/step - loss: 0.4712 - acc: 0.9160 - val_loss: 2.2450 - val_acc: 0.5634\n",
            "\n",
            "Epoch 00011: val_loss did not improve from 2.03217\n",
            "Epoch 12/20\n",
            "592/591 [==============================] - 1356s 2s/step - loss: 0.4247 - acc: 0.9238 - val_loss: 2.2201 - val_acc: 0.5698\n",
            "\n",
            "Epoch 00012: val_loss did not improve from 2.03217\n",
            "Epoch 13/20\n",
            "592/591 [==============================] - 1359s 2s/step - loss: 0.3889 - acc: 0.9318 - val_loss: 2.3911 - val_acc: 0.5629\n",
            "\n",
            "Epoch 00013: val_loss did not improve from 2.03217\n",
            "Epoch 14/20\n",
            "592/591 [==============================] - 1359s 2s/step - loss: 0.3511 - acc: 0.9380 - val_loss: 2.2984 - val_acc: 0.5723\n",
            "\n",
            "Epoch 00014: val_loss did not improve from 2.03217\n",
            "Epoch 15/20\n",
            "592/591 [==============================] - 1373s 2s/step - loss: 0.3314 - acc: 0.9394 - val_loss: 2.3778 - val_acc: 0.5676\n",
            "\n",
            "Epoch 00015: val_loss did not improve from 2.03217\n",
            "Epoch 16/20\n",
            "592/591 [==============================] - 1356s 2s/step - loss: 0.3010 - acc: 0.9459 - val_loss: 2.3242 - val_acc: 0.5763\n",
            "\n",
            "Epoch 00016: val_loss did not improve from 2.03217\n",
            "Epoch 17/20\n",
            "592/591 [==============================] - 1354s 2s/step - loss: 0.2777 - acc: 0.9499 - val_loss: 2.5223 - val_acc: 0.5566\n",
            "\n",
            "Epoch 00017: val_loss did not improve from 2.03217\n",
            "Epoch 18/20\n",
            "592/591 [==============================] - 1356s 2s/step - loss: 0.2720 - acc: 0.9490 - val_loss: 2.5174 - val_acc: 0.5594\n",
            "\n",
            "Epoch 00018: val_loss did not improve from 2.03217\n",
            "Epoch 19/20\n",
            "592/591 [==============================] - 1354s 2s/step - loss: 0.2572 - acc: 0.9524 - val_loss: 2.4111 - val_acc: 0.5724\n",
            "\n",
            "Epoch 00019: val_loss did not improve from 2.03217\n",
            "Epoch 20/20\n",
            "592/591 [==============================] - 1354s 2s/step - loss: 0.2428 - acc: 0.9557 - val_loss: 2.4447 - val_acc: 0.5777\n",
            "\n",
            "Epoch 00020: val_loss did not improve from 2.03217\n"
          ],
          "name": "stdout"
        },
        {
          "output_type": "display_data",
          "data": {
            "image/png": "[encoded data removed]",
            "text/plain": [
              "<Figure size 432x288 with 1 Axes>"
            ]
          },
          "metadata": {
            "tags": []
          }
        },
        {
          "output_type": "display_data",
          "data": {
            "image/png": "[encoded data removed]",
            "text/plain": [
              "<Figure size 432x288 with 1 Axes>"
            ]
          },
          "metadata": {
            "tags": []
          }
        }
      ]
    },
    {
      "cell_type": "code",
      "metadata": {
        "id": "qP3pJUz9zE9Q",
        "colab_type": "code",
        "outputId": "7addbdce-7ae3-4b3b-fed5-64a6e31ede53",
        "colab": {
          "base_uri": "https://localhost:8080/",
          "height": 35
        }
      },
      "source": [
        "shutil.copy(\"/content/history.log\", \"/gdrive/My Drive\")\n",
        "shutil.copy(\"/content/best_model_101class_company.hdf5\", \"/gdrive/My Drive\")"
      ],
      "execution_count": 0,
      "outputs": [
        {
          "output_type": "execute_result",
          "data": {
            "text/plain": [
              "'/gdrive/My Drive/best_model_101class_company.hdf5'"
            ]
          },
          "metadata": {
            "tags": []
          },
          "execution_count": 23
        }
      ]
    },
    {
      "cell_type": "code",
      "metadata": {
        "id": "qHOiWg0befUE",
        "colab_type": "code",
        "colab": {}
      },
      "source": [
        "  import matplotlib.pyplot as plt\n",
        "def plot_accuracy(history,title):\n",
        "    plt.title(title)\n",
        "    plt.plot(history.history['acc'])\n",
        "    plt.plot(history.history['val_acc'])\n",
        "    plt.ylabel('accuracy')\n",
        "    plt.xlabel('epoch')\n",
        "    plt.legend(['train_accuracy', 'validation_accuracy'], loc='best')\n",
        "    plt.show()\n",
        "def plot_loss(history,title):\n",
        "    plt.title(title)\n",
        "    plt.plot(history.history['loss'])\n",
        "    plt.plot(history.history['val_loss'])\n",
        "    plt.ylabel('loss')\n",
        "    plt.xlabel('epoch')\n",
        "    plt.legend(['train_loss', 'validation_loss'], loc='best')\n",
        "    plt.show()\n",
        "\n",
        "\n",
        "plot_accuracy(history,'FOOD101-Vggnet16_adam_withDO')\n",
        "plot_loss(history,'FOOD101-Vggnet16_adam_withDO')"
      ],
      "execution_count": 0,
      "outputs": []
    },
    {
      "cell_type": "code",
      "metadata": {
        "id": "jEzdqT0K4YjK",
        "colab_type": "code",
        "colab": {}
      },
      "source": [
        ""
      ],
      "execution_count": 0,
      "outputs": []
    }
  ]
}